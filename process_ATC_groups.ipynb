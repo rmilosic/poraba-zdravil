{
 "cells": [
  {
   "cell_type": "code",
   "execution_count": 21,
   "metadata": {},
   "outputs": [],
   "source": [
    "import pandas as pd\n",
    "import numpy as np\n",
    "import os"
   ]
  },
  {
   "cell_type": "markdown",
   "metadata": {},
   "source": [
    "# Load data"
   ]
  },
  {
   "cell_type": "code",
   "execution_count": 6,
   "metadata": {},
   "outputs": [],
   "source": [
    "df_atc_1 = pd.read_excel(\n",
    "    \"data/raw/Receptna_lista+2010-2019_i.xlsx\", \n",
    "    sheet_name=\"ATC1\", \n",
    "    skiprows=1,\n",
    "    usecols=[0, 1]\n",
    ")"
   ]
  },
  {
   "cell_type": "code",
   "execution_count": 9,
   "metadata": {},
   "outputs": [],
   "source": [
    "df_atc_2 = pd.read_excel(\n",
    "    \"data/raw/Receptna_lista+2010-2019_i.xlsx\", \n",
    "    sheet_name=\"ATC2\", \n",
    "    skiprows=1,\n",
    "    usecols=[0, 1]\n",
    ")"
   ]
  },
  {
   "cell_type": "code",
   "execution_count": 10,
   "metadata": {},
   "outputs": [],
   "source": [
    "df_atc_3 = pd.read_excel(\n",
    "    \"data/raw/Receptna_lista+2010-2019_i.xlsx\", \n",
    "    sheet_name=\"ATC3\", \n",
    "    skiprows=1,\n",
    "    usecols=[0, 1]\n",
    ")"
   ]
  },
  {
   "cell_type": "code",
   "execution_count": 11,
   "metadata": {},
   "outputs": [],
   "source": [
    "df_atc_4 = pd.read_excel(\n",
    "    \"data/raw/Receptna_lista+2010-2019_i.xlsx\", \n",
    "    sheet_name=\"ATC4\", \n",
    "    skiprows=1,\n",
    "    usecols=[0, 1]\n",
    ")"
   ]
  },
  {
   "cell_type": "code",
   "execution_count": 12,
   "metadata": {},
   "outputs": [],
   "source": [
    "df_atc_5 = pd.read_excel(\n",
    "    \"data/raw/Receptna_lista+2010-2019_i.xlsx\", \n",
    "    sheet_name=\"ATC5\", \n",
    "    skiprows=1,\n",
    "    usecols=[0, 1]\n",
    ")"
   ]
  },
  {
   "cell_type": "markdown",
   "metadata": {},
   "source": [
    "# Drop irrelevant rows"
   ]
  },
  {
   "cell_type": "code",
   "execution_count": 14,
   "metadata": {},
   "outputs": [],
   "source": [
    "df_atc_1.drop(index=[0,1], inplace=True)"
   ]
  },
  {
   "cell_type": "code",
   "execution_count": 15,
   "metadata": {},
   "outputs": [],
   "source": [
    "df_atc_2.drop(index=[0,1], inplace=True)"
   ]
  },
  {
   "cell_type": "code",
   "execution_count": 16,
   "metadata": {},
   "outputs": [],
   "source": [
    "df_atc_3.drop(index=[0,1], inplace=True)"
   ]
  },
  {
   "cell_type": "code",
   "execution_count": 17,
   "metadata": {},
   "outputs": [],
   "source": [
    "df_atc_4.drop(index=[0,1], inplace=True)"
   ]
  },
  {
   "cell_type": "code",
   "execution_count": 18,
   "metadata": {},
   "outputs": [],
   "source": [
    "df_atc_5.drop(index=[0,1], inplace=True)"
   ]
  },
  {
   "cell_type": "markdown",
   "metadata": {},
   "source": [
    "# Inspect results"
   ]
  },
  {
   "cell_type": "code",
   "execution_count": 19,
   "metadata": {},
   "outputs": [
    {
     "name": "stdout",
     "output_type": "stream",
     "text": [
      "<class 'pandas.core.frame.DataFrame'>\n",
      "Int64Index: 14 entries, 2 to 15\n",
      "Data columns (total 2 columns):\n",
      " #   Column  Non-Null Count  Dtype \n",
      "---  ------  --------------  ----- \n",
      " 0   ATC1    14 non-null     object\n",
      " 1   NAZIV   14 non-null     object\n",
      "dtypes: object(2)\n",
      "memory usage: 336.0+ bytes\n"
     ]
    }
   ],
   "source": [
    "df_atc_1.info()"
   ]
  },
  {
   "cell_type": "code",
   "execution_count": 20,
   "metadata": {},
   "outputs": [
    {
     "data": {
      "text/html": [
       "<div>\n",
       "<style scoped>\n",
       "    .dataframe tbody tr th:only-of-type {\n",
       "        vertical-align: middle;\n",
       "    }\n",
       "\n",
       "    .dataframe tbody tr th {\n",
       "        vertical-align: top;\n",
       "    }\n",
       "\n",
       "    .dataframe thead th {\n",
       "        text-align: right;\n",
       "    }\n",
       "</style>\n",
       "<table border=\"1\" class=\"dataframe\">\n",
       "  <thead>\n",
       "    <tr style=\"text-align: right;\">\n",
       "      <th></th>\n",
       "      <th>ATC5</th>\n",
       "      <th>NAZIV</th>\n",
       "    </tr>\n",
       "  </thead>\n",
       "  <tbody>\n",
       "    <tr>\n",
       "      <th>827</th>\n",
       "      <td>V06CA</td>\n",
       "      <td>Hranila brez fenilalanina</td>\n",
       "    </tr>\n",
       "    <tr>\n",
       "      <th>828</th>\n",
       "      <td>V06DB</td>\n",
       "      <td>Maščobe, ogljikovi hidrati, proteini, minerali...</td>\n",
       "    </tr>\n",
       "    <tr>\n",
       "      <th>829</th>\n",
       "      <td>V06DF</td>\n",
       "      <td>Mlečni nadomestki</td>\n",
       "    </tr>\n",
       "    <tr>\n",
       "      <th>830</th>\n",
       "      <td>V06DX</td>\n",
       "      <td>Druge kombinacije hranil</td>\n",
       "    </tr>\n",
       "    <tr>\n",
       "      <th>831</th>\n",
       "      <td>V07AB</td>\n",
       "      <td>Raztopine in pripravki za redčenje, vključno s...</td>\n",
       "    </tr>\n",
       "  </tbody>\n",
       "</table>\n",
       "</div>"
      ],
      "text/plain": [
       "      ATC5                                              NAZIV\n",
       "827  V06CA                          Hranila brez fenilalanina\n",
       "828  V06DB  Maščobe, ogljikovi hidrati, proteini, minerali...\n",
       "829  V06DF                                  Mlečni nadomestki\n",
       "830  V06DX                           Druge kombinacije hranil\n",
       "831  V07AB  Raztopine in pripravki za redčenje, vključno s..."
      ]
     },
     "execution_count": 20,
     "metadata": {},
     "output_type": "execute_result"
    }
   ],
   "source": [
    "df_atc_5.tail()"
   ]
  },
  {
   "cell_type": "markdown",
   "metadata": {},
   "source": [
    "## Join atc code and name"
   ]
  },
  {
   "cell_type": "code",
   "execution_count": 48,
   "metadata": {},
   "outputs": [],
   "source": [
    "df_atc_1 = df_atc_1.assign(joint_name=df_atc_1.ATC1 + \" - \" + df_atc_1.NAZIV)"
   ]
  },
  {
   "cell_type": "code",
   "execution_count": 49,
   "metadata": {},
   "outputs": [],
   "source": [
    "df_atc_2 = df_atc_2.assign(joint_name=df_atc_2.ATC2 + \" - \" + df_atc_2.NAZIV)"
   ]
  },
  {
   "cell_type": "code",
   "execution_count": 51,
   "metadata": {},
   "outputs": [],
   "source": [
    "df_atc_3 = df_atc_3.assign(joint_name=df_atc_3.ATC3 + \" - \" + df_atc_3.NAZIV)"
   ]
  },
  {
   "cell_type": "code",
   "execution_count": 53,
   "metadata": {},
   "outputs": [],
   "source": [
    "df_atc_4 = df_atc_4.assign(joint_name=df_atc_4.ATC4 + \" - \" + df_atc_4.NAZIV)"
   ]
  },
  {
   "cell_type": "code",
   "execution_count": 52,
   "metadata": {},
   "outputs": [],
   "source": [
    "df_atc_5 = df_atc_5.assign(joint_name=df_atc_5.ATC5 + \" - \" + df_atc_5.NAZIV)"
   ]
  },
  {
   "cell_type": "markdown",
   "metadata": {},
   "source": [
    "# Export csv"
   ]
  },
  {
   "cell_type": "code",
   "execution_count": 54,
   "metadata": {},
   "outputs": [],
   "source": [
    "export_path = \"data/processed/ATC-groups\""
   ]
  },
  {
   "cell_type": "code",
   "execution_count": 55,
   "metadata": {},
   "outputs": [],
   "source": [
    "if not os.path.exists(export_path):\n",
    "    os.makedirs(export_path)"
   ]
  },
  {
   "cell_type": "code",
   "execution_count": 56,
   "metadata": {},
   "outputs": [],
   "source": [
    "df_atc_1.to_csv(os.path.join(export_path, \"ATC1.csv\"), encoding=\"utf-8\", index=False)"
   ]
  },
  {
   "cell_type": "code",
   "execution_count": 57,
   "metadata": {},
   "outputs": [],
   "source": [
    "df_atc_2.to_csv(os.path.join(export_path, \"ATC2.csv\"), encoding=\"utf-8\", index=False)"
   ]
  },
  {
   "cell_type": "code",
   "execution_count": 58,
   "metadata": {},
   "outputs": [],
   "source": [
    "df_atc_3.to_csv(os.path.join(export_path, \"ATC3.csv\"), encoding=\"utf-8\", index=False)"
   ]
  },
  {
   "cell_type": "code",
   "execution_count": 59,
   "metadata": {},
   "outputs": [],
   "source": [
    "df_atc_4.to_csv(os.path.join(export_path, \"ATC4.csv\"), encoding=\"utf-8\", index=False)"
   ]
  },
  {
   "cell_type": "code",
   "execution_count": 60,
   "metadata": {},
   "outputs": [],
   "source": [
    "df_atc_5.to_csv(os.path.join(export_path, \"ATC5.csv\"), encoding=\"utf-8\", index=False)"
   ]
  },
  {
   "cell_type": "code",
   "execution_count": null,
   "metadata": {},
   "outputs": [],
   "source": []
  },
  {
   "cell_type": "code",
   "execution_count": null,
   "metadata": {},
   "outputs": [],
   "source": []
  }
 ],
 "metadata": {
  "kernelspec": {
   "display_name": "venv",
   "language": "python",
   "name": "venv"
  },
  "language_info": {
   "codemirror_mode": {
    "name": "ipython",
    "version": 3
   },
   "file_extension": ".py",
   "mimetype": "text/x-python",
   "name": "python",
   "nbconvert_exporter": "python",
   "pygments_lexer": "ipython3",
   "version": "3.7.6"
  }
 },
 "nbformat": 4,
 "nbformat_minor": 4
}
